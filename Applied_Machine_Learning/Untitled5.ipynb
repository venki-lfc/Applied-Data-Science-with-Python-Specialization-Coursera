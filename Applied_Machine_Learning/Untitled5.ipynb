{
 "cells": [
  {
   "cell_type": "code",
   "execution_count": 1,
   "metadata": {
    "collapsed": false
   },
   "outputs": [
    {
     "name": "stderr",
     "output_type": "stream",
     "text": [
      "/opt/conda/lib/python3.6/site-packages/IPython/core/interactiveshell.py:2717: DtypeWarning: Columns (11,12,31) have mixed types. Specify dtype option on import or set low_memory=False.\n",
      "  interactivity=interactivity, compiler=compiler, result=result)\n"
     ]
    }
   ],
   "source": [
    "import pandas as pd\n",
    "import numpy as np\n",
    "\n",
    "pd.set_option('display.width', 700)\n",
    "pd.set_option('display.max_columns', 33)\n",
    "\n",
    "df_train = pd.read_csv('readonly/train.csv', encoding = \"ISO-8859-1\")\n",
    "df_test = pd.read_csv('readonly/test.csv', encoding = \"ISO-8859-1\")\n",
    "\n",
    "df_train = df_train.set_index('ticket_id')\n",
    "df_test = df_test.set_index('ticket_id')\n",
    "\n",
    "df_train['compliance'] = df_train['compliance'].fillna(value=-1)\n",
    "\n",
    "df_train = df_train.loc[df_train['compliance'] != -1]\n",
    "\n",
    "X_train = df_train[['fine_amount','admin_fee','state_fee','late_fee','discount_amount','judgment_amount']]\n",
    "X_test = df_test[['fine_amount','admin_fee','state_fee','late_fee','discount_amount','judgment_amount']]\n",
    "\n",
    "Y_train = df_train['compliance']\n",
    "\n",
    "from sklearn.model_selection import GridSearchCV\n",
    "from sklearn.ensemble import RandomForestClassifier\n",
    "\n",
    "clf = RandomForestClassifier(random_state=0,n_estimators=100,max_depth=4,max_features=6)\n",
    "clf_fitted = clf.fit(X_train,Y_train)\n",
    "\n",
    "prob = np.array(clf_fitted.predict_proba(X_test)[:,1:2]).reshape(prob.shape[0],)\n",
    "\n",
    "prob_series = pd.Series(data= prob, index = np.array(X_test.index), name = 'compliance', dtype='float32')\n",
    "\n",
    "prob_series.index.name = 'ticket_id'\n",
    "\n",
    "prob_series\n",
    "\n"
   ]
  }
 ],
 "metadata": {
  "kernelspec": {
   "display_name": "Python 3",
   "language": "python",
   "name": "python3"
  },
  "language_info": {
   "codemirror_mode": {
    "name": "ipython",
    "version": 3
   },
   "file_extension": ".py",
   "mimetype": "text/x-python",
   "name": "python",
   "nbconvert_exporter": "python",
   "pygments_lexer": "ipython3",
   "version": "3.6.2"
  }
 },
 "nbformat": 4,
 "nbformat_minor": 1
}
