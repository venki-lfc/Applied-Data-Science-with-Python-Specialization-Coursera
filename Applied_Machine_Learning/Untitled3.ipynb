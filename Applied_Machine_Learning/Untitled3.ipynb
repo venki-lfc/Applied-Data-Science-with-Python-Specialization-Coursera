{
 "cells": [
  {
   "cell_type": "code",
   "execution_count": 35,
   "metadata": {
    "collapsed": true
   },
   "outputs": [],
   "source": [
    "import numpy as np\n",
    "import pandas as pd"
   ]
  },
  {
   "cell_type": "code",
   "execution_count": null,
   "metadata": {
    "collapsed": false
   },
   "outputs": [],
   "source": [
    "df = pd.read_csv(\"fraud_data.csv\")\n",
    "df.shape[0]"
   ]
  },
  {
   "cell_type": "code",
   "execution_count": 36,
   "metadata": {
    "collapsed": false
   },
   "outputs": [],
   "source": [
    "from sklearn.model_selection import train_test_split\n",
    "\n",
    "df = pd.read_csv('readonly/fraud_data.csv')\n",
    "\n",
    "X = df.iloc[:,:-1]\n",
    "y = df.iloc[:,-1]\n",
    "\n",
    "X_train, X_test, y_train, y_test = train_test_split(X, y, random_state=0)"
   ]
  },
  {
   "cell_type": "code",
   "execution_count": null,
   "metadata": {
    "collapsed": true
   },
   "outputs": [],
   "source": [
    "from sklearn.metrics import confusion_matrix\n",
    "from sklearn.svm import SVC\n",
    "\n",
    "    # Your code here\n",
    "svm2 = SVC(C=1e9, gamma=1e-07).fit(X_train,y_train)\n",
    "y_predict = svm2.predict(X_test)\n",
    "conf_mat = confusion_matrix(y_test,y_predict)\n",
    "\n"
   ]
  },
  {
   "cell_type": "code",
   "execution_count": null,
   "metadata": {
    "collapsed": false
   },
   "outputs": [],
   "source": [
    "\n",
    "y_score_list1 = list(zip(y_test[0:200], y_scores_svm[0:200]))"
   ]
  },
  {
   "cell_type": "code",
   "execution_count": 37,
   "metadata": {
    "collapsed": false
   },
   "outputs": [],
   "source": [
    "from sklearn.linear_model import LogisticRegression\n",
    "import matplotlib.pyplot as plt\n",
    "\n",
    "lr = LogisticRegression().fit(X_train,y_train)\n",
    "y_scores_lr = lr.fit(X_train, y_train).decision_function(X_test)"
   ]
  },
  {
   "cell_type": "code",
   "execution_count": 38,
   "metadata": {
    "collapsed": false
   },
   "outputs": [
    {
     "data": {
      "text/plain": [
       "[<matplotlib.lines.Line2D at 0x7f8ec6b31358>]"
      ]
     },
     "execution_count": 38,
     "metadata": {},
     "output_type": "execute_result"
    }
   ],
   "source": [
    "from sklearn.metrics import precision_recall_curve\n",
    "\n",
    "precision, recall, thresholds = precision_recall_curve(y_test, y_scores_lr)\n",
    "plt.figure()\n",
    "plt.xlim([0.0, 1.01])\n",
    "plt.ylim([0.0, 1.01])\n",
    "plt.plot(precision, recall, label='Precision-Recall Curve')\n"
   ]
  },
  {
   "cell_type": "code",
   "execution_count": 39,
   "metadata": {
    "collapsed": true
   },
   "outputs": [],
   "source": [
    "from sklearn.metrics import roc_curve, auc\n",
    "fpr_lr, tpr_lr, _ = roc_curve(y_test, y_scores_lr)"
   ]
  },
  {
   "cell_type": "code",
   "execution_count": 43,
   "metadata": {
    "collapsed": false
   },
   "outputs": [
    {
     "data": {
      "text/plain": [
       "[0.01,\n",
       " 0.17999999999999999,\n",
       " 0.17999999999999999,\n",
       " 0.34000000000000002,\n",
       " 0.34000000000000002,\n",
       " 0.81000000000000005,\n",
       " 0.81000000000000005,\n",
       " 0.81999999999999995,\n",
       " 0.81999999999999995,\n",
       " 0.83999999999999997,\n",
       " 0.83999999999999997,\n",
       " 0.84999999999999998,\n",
       " 0.84999999999999998,\n",
       " 0.85999999999999999,\n",
       " 0.85999999999999999,\n",
       " 0.88,\n",
       " 0.88,\n",
       " 0.89000000000000001,\n",
       " 0.89000000000000001,\n",
       " 0.90000000000000002,\n",
       " 0.90000000000000002,\n",
       " 0.91000000000000003,\n",
       " 0.91000000000000003,\n",
       " 0.92000000000000004,\n",
       " 0.92000000000000004,\n",
       " 0.93999999999999995,\n",
       " 0.93999999999999995,\n",
       " 0.94999999999999996,\n",
       " 0.94999999999999996,\n",
       " 0.94999999999999996,\n",
       " 0.94999999999999996,\n",
       " 0.94999999999999996,\n",
       " 0.94999999999999996,\n",
       " 0.95999999999999996,\n",
       " 0.95999999999999996,\n",
       " 0.97999999999999998,\n",
       " 0.97999999999999998,\n",
       " 0.97999999999999998,\n",
       " 0.97999999999999998,\n",
       " 0.97999999999999998,\n",
       " 0.97999999999999998,\n",
       " 0.98999999999999999,\n",
       " 0.98999999999999999,\n",
       " 1.0,\n",
       " 1.0,\n",
       " 1.0,\n",
       " 1.0,\n",
       " 1.0,\n",
       " 1.0]"
      ]
     },
     "execution_count": 43,
     "metadata": {},
     "output_type": "execute_result"
    }
   ],
   "source": [
    "new = [round(x,2) for x in list(tpr_lr)]\n",
    "new"
   ]
  },
  {
   "cell_type": "code",
   "execution_count": 51,
   "metadata": {
    "collapsed": false
   },
   "outputs": [
    {
     "data": {
      "text/plain": [
       "[0.23, 0.68]"
      ]
     },
     "execution_count": 51,
     "metadata": {},
     "output_type": "execute_result"
    }
   ],
   "source": [
    "a = [0.234,0.678]\n",
    "\n",
    "[round(x,2) for x in a]"
   ]
  },
  {
   "cell_type": "code",
   "execution_count": 55,
   "metadata": {
    "collapsed": false
   },
   "outputs": [
    {
     "data": {
      "text/plain": [
       "(array([ 0.0125,  0.175 ,  0.175 ,  0.3375,  0.3375,  0.8125,  0.8125,\n",
       "         0.825 ,  0.825 ,  0.8375,  0.8375,  0.85  ,  0.85  ,  0.8625,\n",
       "         0.8625,  0.875 ,  0.875 ,  0.8875,  0.8875,  0.9   ,  0.9   ,\n",
       "         0.9125,  0.9125,  0.925 ,  0.925 ,  0.9375,  0.9375,  0.95  ,\n",
       "         0.95  ,  0.95  ,  0.95  ,  0.95  ,  0.95  ,  0.9625,  0.9625,\n",
       "         0.975 ,  0.975 ,  0.975 ,  0.975 ,  0.975 ,  0.975 ,  0.9875,\n",
       "         0.9875,  1.    ,  1.    ,  1.    ,  1.    ,  1.    ,  1.    ]),\n",
       " array([  0.00000000e+00,   0.00000000e+00,   1.87125749e-04,\n",
       "          1.87125749e-04,   3.74251497e-04,   3.74251497e-04,\n",
       "          5.61377246e-04,   5.61377246e-04,   5.23952096e-03,\n",
       "          5.23952096e-03,   1.47829341e-02,   1.47829341e-02,\n",
       "          2.69461078e-02,   2.69461078e-02,   4.26646707e-02,\n",
       "          4.26646707e-02,   6.17514970e-02,   6.17514970e-02,\n",
       "          7.52245509e-02,   7.52245509e-02,   1.23315868e-01,\n",
       "          1.23315868e-01,   1.37911677e-01,   1.37911677e-01,\n",
       "          1.48577844e-01,   1.48577844e-01,   1.59618263e-01,\n",
       "          1.59618263e-01,   2.04715569e-01,   2.05276946e-01,\n",
       "          2.16878743e-01,   2.17252994e-01,   2.31287425e-01,\n",
       "          2.31287425e-01,   2.37836826e-01,   2.37836826e-01,\n",
       "          2.68899701e-01,   2.69273952e-01,   4.74738024e-01,\n",
       "          4.75112275e-01,   5.75598802e-01,   5.75598802e-01,\n",
       "          5.94498503e-01,   5.94498503e-01,   6.83757485e-01,\n",
       "          6.84131737e-01,   8.69011976e-01,   8.69386228e-01,\n",
       "          1.00000000e+00]))"
      ]
     },
     "execution_count": 55,
     "metadata": {},
     "output_type": "execute_result"
    }
   ],
   "source": [
    "tpr_lr,fpr_lr"
   ]
  },
  {
   "cell_type": "code",
   "execution_count": 56,
   "metadata": {
    "collapsed": true
   },
   "outputs": [],
   "source": [
    "from sklearn.model_selection import GridSearchCV\n",
    "from sklearn.linear_model import LogisticRegression\n",
    "\n",
    "    # Your code here\n",
    "lr = LogisticRegression()\n",
    "\n",
    "grid_values = {'C': [0.01, 0.1, 1, 10, 100], 'penalty': ['l1', 'l2']}\n",
    "\n",
    "    # default metric to optimize over grid parameters\n",
    "grid_lr = GridSearchCV(lr, param_grid = grid_values, scoring = 'recall')\n",
    "grid_lr.fit(X_train, y_train)\n",
    "    \n",
    "#     print(grid_lr.cv_results_['mean_test_score'].reshape(5,2))\n",
    "ans = np.array(grid_lr.cv_results_['mean_test_score'].reshape(5,2))"
   ]
  },
  {
   "cell_type": "code",
   "execution_count": 57,
   "metadata": {
    "collapsed": false
   },
   "outputs": [
    {
     "data": {
      "text/plain": [
       "array([ 0.66666667,  0.76086957,  0.80072464,  0.80434783,  0.8115942 ,\n",
       "        0.8115942 ,  0.80797101,  0.8115942 ,  0.80797101,  0.80797101])"
      ]
     },
     "execution_count": 57,
     "metadata": {},
     "output_type": "execute_result"
    }
   ],
   "source": [
    "grid_lr.cv_results_['mean_test_score']"
   ]
  },
  {
   "cell_type": "code",
   "execution_count": 58,
   "metadata": {
    "collapsed": false
   },
   "outputs": [
    {
     "data": {
      "text/plain": [
       "array([[ 0.66666667,  0.76086957],\n",
       "       [ 0.80072464,  0.80434783],\n",
       "       [ 0.8115942 ,  0.8115942 ],\n",
       "       [ 0.80797101,  0.8115942 ],\n",
       "       [ 0.80797101,  0.80797101]])"
      ]
     },
     "execution_count": 58,
     "metadata": {},
     "output_type": "execute_result"
    }
   ],
   "source": [
    "ans"
   ]
  },
  {
   "cell_type": "code",
   "execution_count": 59,
   "metadata": {
    "collapsed": false
   },
   "outputs": [
    {
     "data": {
      "text/plain": [
       "{'mean_fit_time': array([ 0.12463005,  0.32896558,  0.27502418,  0.321769  ,  0.33714636,\n",
       "         0.41415254,  0.61551118,  0.46941797,  0.63919592,  0.46483787]),\n",
       " 'mean_score_time': array([ 0.05364847,  0.16776999,  0.06079467,  0.02699018,  0.07650956,\n",
       "         0.05518134,  0.08418345,  0.16378625,  0.15725295,  0.13668823]),\n",
       " 'mean_test_score': array([ 0.66666667,  0.76086957,  0.80072464,  0.80434783,  0.8115942 ,\n",
       "         0.8115942 ,  0.80797101,  0.8115942 ,  0.80797101,  0.80797101]),\n",
       " 'mean_train_score': array([ 0.68115942,  0.77355072,  0.80615942,  0.8134058 ,  0.81884058,\n",
       "         0.81702899,  0.82427536,  0.82427536,  0.82427536,  0.82427536]),\n",
       " 'param_C': masked_array(data = [0.01 0.01 0.1 0.1 1 1 10 10 100 100],\n",
       "              mask = [False False False False False False False False False False],\n",
       "        fill_value = ?),\n",
       " 'param_penalty': masked_array(data = ['l1' 'l2' 'l1' 'l2' 'l1' 'l2' 'l1' 'l2' 'l1' 'l2'],\n",
       "              mask = [False False False False False False False False False False],\n",
       "        fill_value = ?),\n",
       " 'params': ({'C': 0.01, 'penalty': 'l1'},\n",
       "  {'C': 0.01, 'penalty': 'l2'},\n",
       "  {'C': 0.1, 'penalty': 'l1'},\n",
       "  {'C': 0.1, 'penalty': 'l2'},\n",
       "  {'C': 1, 'penalty': 'l1'},\n",
       "  {'C': 1, 'penalty': 'l2'},\n",
       "  {'C': 10, 'penalty': 'l1'},\n",
       "  {'C': 10, 'penalty': 'l2'},\n",
       "  {'C': 100, 'penalty': 'l1'},\n",
       "  {'C': 100, 'penalty': 'l2'}),\n",
       " 'rank_test_score': array([10,  9,  8,  7,  2,  2,  4,  1,  4,  4], dtype=int32),\n",
       " 'split0_test_score': array([ 0.70652174,  0.80434783,  0.80434783,  0.82608696,  0.82608696,\n",
       "         0.82608696,  0.82608696,  0.83695652,  0.82608696,  0.82608696]),\n",
       " 'split0_train_score': array([ 0.69021739,  0.77173913,  0.79891304,  0.80978261,  0.82065217,\n",
       "         0.81521739,  0.82065217,  0.82065217,  0.82065217,  0.82065217]),\n",
       " 'split1_test_score': array([ 0.69565217,  0.75      ,  0.83695652,  0.83695652,  0.83695652,\n",
       "         0.83695652,  0.83695652,  0.83695652,  0.83695652,  0.83695652]),\n",
       " 'split1_train_score': array([ 0.67391304,  0.76630435,  0.79891304,  0.80434783,  0.80978261,\n",
       "         0.80978261,  0.81521739,  0.81521739,  0.81521739,  0.81521739]),\n",
       " 'split2_test_score': array([ 0.59782609,  0.72826087,  0.76086957,  0.75      ,  0.77173913,\n",
       "         0.77173913,  0.76086957,  0.76086957,  0.76086957,  0.76086957]),\n",
       " 'split2_train_score': array([ 0.67934783,  0.7826087 ,  0.82065217,  0.82608696,  0.82608696,\n",
       "         0.82608696,  0.83695652,  0.83695652,  0.83695652,  0.83695652]),\n",
       " 'std_fit_time': array([ 0.06930808,  0.02068054,  0.05550026,  0.01098204,  0.07958043,\n",
       "         0.06716484,  0.2389922 ,  0.04420912,  0.3529133 ,  0.09216825]),\n",
       " 'std_score_time': array([ 0.07231389,  0.0212854 ,  0.08271092,  0.03506688,  0.07138048,\n",
       "         0.07494043,  0.06773508,  0.00667665,  0.00429224,  0.04138098]),\n",
       " 'std_test_score': array([ 0.04887948,  0.03199913,  0.03116785,  0.03868507,  0.02852901,\n",
       "         0.02852901,  0.03360007,  0.03586774,  0.03360007,  0.03360007]),\n",
       " 'std_train_score': array([ 0.00677836,  0.00677836,  0.01024792,  0.00923735,  0.00677836,\n",
       "         0.00677836,  0.00923735,  0.00923735,  0.00923735,  0.00923735])}"
      ]
     },
     "execution_count": 59,
     "metadata": {},
     "output_type": "execute_result"
    }
   ],
   "source": [
    "grid_lr.cv_results_"
   ]
  },
  {
   "cell_type": "code",
   "execution_count": null,
   "metadata": {
    "collapsed": true
   },
   "outputs": [],
   "source": []
  }
 ],
 "metadata": {
  "kernelspec": {
   "display_name": "Python 3",
   "language": "python",
   "name": "python3"
  },
  "language_info": {
   "codemirror_mode": {
    "name": "ipython",
    "version": 3
   },
   "file_extension": ".py",
   "mimetype": "text/x-python",
   "name": "python",
   "nbconvert_exporter": "python",
   "pygments_lexer": "ipython3",
   "version": "3.6.2"
  }
 },
 "nbformat": 4,
 "nbformat_minor": 1
}
